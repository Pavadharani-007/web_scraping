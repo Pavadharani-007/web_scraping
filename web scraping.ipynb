{
 "cells": [
  {
   "cell_type": "code",
   "execution_count": 1,
   "id": "81a2e1ce",
   "metadata": {},
   "outputs": [
    {
     "name": "stdout",
     "output_type": "stream",
     "text": [
      "Failed to retrieve webpage. Status code: 403\n"
     ]
    }
   ],
   "source": [
    "import requests\n",
    "from bs4 import BeautifulSoup\n",
    "import csv\n",
    "\n",
    "url = \"https://www.sciencedirect.com/topics/pharmacology-toxicology-and-pharmaceutical-science/1-vinyl-2-pyrrolidinone\"\n",
    "response = requests.get(url)\n",
    "if response.status_code == 200:\n",
    "    soup = BeautifulSoup(response.content, 'html.parser')\n",
    "    elements = soup.find_all(['a', 'img', 'p', 'h1', 'h2', 'h3', 'h4', 'h5', 'h6'])\n",
    "\n",
    "    try:\n",
    "        with open('scrap@.csv', 'w', newline='', encoding='utf-8') as csvfile:\n",
    "            csv_writer = csv.writer(csvfile)\n",
    "            csv_writer.writerow(['Type', 'Text', 'URL'])\n",
    "\n",
    "            for element in elements:\n",
    "                element_type = element.name\n",
    "                text = element.get_text(strip=True)\n",
    "                if element.name == 'a':\n",
    "                    url = element.get('href')\n",
    "                elif element.name == 'img':\n",
    "                    url = element.get('src')\n",
    "                else:\n",
    "                    url = ''\n",
    "                csv_writer.writerow([element_type, text, url])\n",
    "\n",
    "        print(\"Scraping completed. Data saved in scrap@.csv\")\n",
    "    except Exception as e:\n",
    "        print(\"Error:\", e)\n",
    "else:\n",
    "    print(\"Failed to retrieve webpage. Status code:\", response.status_code)"
   ]
  },
  {
   "cell_type": "code",
   "execution_count": null,
   "id": "0a145de1",
   "metadata": {},
   "outputs": [],
   "source": [
    "for element in elements:\n",
    "    print(element)"
   ]
  },
  {
   "cell_type": "code",
   "execution_count": 2,
   "id": "a70ae2ca",
   "metadata": {},
   "outputs": [
    {
     "name": "stdout",
     "output_type": "stream",
     "text": [
      "Failed to retrieve webpage. Status code: 403\n"
     ]
    }
   ],
   "source": [
    "import requests\n",
    "from bs4 import BeautifulSoup\n",
    "import csv\n",
    "\n",
    "url = \"https://www.sciencedirect.com/topics/pharmacology-toxicology-and-pharmaceutical-science/1-vinyl-2-pyrrolidinone\"\n",
    "headers = {\n",
    "    'User-Agent': 'Mozilla/5.0 (Windows NT 10.0; Win64; x64) AppleWebKit/537.36 (KHTML, like Gecko) Chrome/58.0.3029.110 Safari/537.3'\n",
    "}\n",
    "response = requests.get(url, headers=headers)\n",
    "if response.status_code == 200:\n",
    "    soup = BeautifulSoup(response.content, 'html.parser')\n",
    "    elements = soup.find_all(['a', 'img', 'p', 'h1', 'h2', 'h3', 'h4', 'h5', 'h6'])\n",
    "\n",
    "    try:\n",
    "        with open('scrap@.csv', 'w', newline='', encoding='utf-8') as csvfile:\n",
    "            csv_writer = csv.writer(csvfile)\n",
    "            csv_writer.writerow(['Type', 'Text', 'URL'])\n",
    "\n",
    "            for element in elements:\n",
    "                element_type = element.name\n",
    "                text = element.get_text(strip=True)\n",
    "                if element.name == 'a':\n",
    "                    url = element.get('href')\n",
    "                elif element.name == 'img':\n",
    "                    url = element.get('src')\n",
    "                else:\n",
    "                    url = ''\n",
    "                csv_writer.writerow([element_type, text, url])\n",
    "\n",
    "        print(\"Scraping completed. Data saved in scrap@.csv\")\n",
    "    except Exception as e:\n",
    "        print(\"Error:\", e)\n",
    "else:\n",
    "    print(\"Failed to retrieve webpage. Status code:\", response.status_code)"
   ]
  },
  {
   "cell_type": "code",
   "execution_count": 7,
   "id": "771dfcc8",
   "metadata": {},
   "outputs": [
    {
     "name": "stdout",
     "output_type": "stream",
     "text": [
      "Failed to retrieve webpage. Status code: 403\n"
     ]
    }
   ],
   "source": [
    "import requests\n",
    "from bs4 import BeautifulSoup\n",
    "import csv\n",
    "\n",
    "url = \"https://www.sciencedirect.com/topics/pharmacology-toxicology-and-pharmaceutical-science/1-vinyl-2-pyrrolidinone\"\n",
    "headers = {\n",
    "    'User-Agent': 'Mozilla/5.0 (Windows NT 10.0; Win64; x64) AppleWebKit/537.36 (KHTML, like Gecko) Chrome/58.0.3029.110 Safari/537.3'\n",
    "}\n",
    "response = requests.get(url, headers=headers)\n",
    "if response.status_code == 200:\n",
    "    soup = BeautifulSoup(response.content, 'html.parser')\n",
    "    elements = soup.find_all(['a', 'img', 'p', 'h1', 'h2', 'h3', 'h4', 'h5', 'h6'])\n",
    "\n",
    "    try:\n",
    "        with open('scrap@.csv', 'w', newline='', encoding='utf-8') as csvfile:\n",
    "            csv_writer = csv.writer(csvfile)\n",
    "            csv_writer.writerow(['Type', 'Text', 'URL'])\n",
    "\n",
    "            for element in elements:\n",
    "                element_type = element.name\n",
    "                text = element.get_text(strip=True)\n",
    "                if element.name == 'a':\n",
    "                    url = element.get('href')\n",
    "                elif element.name == 'img':\n",
    "                    url = element.get('src')\n",
    "                else:\n",
    "                    url = ''\n",
    "                csv_writer.writerow([element_type, text, url])\n",
    "\n",
    "        print(\"Scraping completed. Data saved in scrap@.csv\")\n",
    "    except Exception as e:\n",
    "        print(\"Error:\", e)\n",
    "else:\n",
    "    print(\"Failed to retrieve webpage. Status code:\", response.status_code)"
   ]
  },
  {
   "cell_type": "code",
   "execution_count": 6,
   "id": "c901e609",
   "metadata": {},
   "outputs": [],
   "source": [
    "headers = {\n",
    "    'User-Agent': 'Mozilla/5.0 (Windows NT 10.0; Win64; x64) AppleWebKit/537.36 (KHTML, like Gecko) Chrome/93.0.4577.82 Safari/537.36'\n",
    "}"
   ]
  },
  {
   "cell_type": "code",
   "execution_count": 9,
   "id": "9a6f3eed",
   "metadata": {},
   "outputs": [
    {
     "name": "stdout",
     "output_type": "stream",
     "text": [
      "Failed to retrieve webpage. Status code: 403\n"
     ]
    }
   ],
   "source": [
    "import requests\n",
    "from bs4 import BeautifulSoup\n",
    "import csv\n",
    "\n",
    "url = \"https://www.sciencedirect.com/topics/pharmacology-toxicology-and-pharmaceutical-science/1-vinyl-2-pyrrolidinone\"\n",
    "headers = {\n",
    "    'User-Agent': 'Mozilla/5.0 (Windows NT 10.0; Win64; x64) AppleWebKit/537.36 (KHTML, like Gecko) Chrome/91.0.4472.124 Safari/537.36',\n",
    "    'Referer': 'https://www.google.com/'  # Set the Referer header to a valid URL\n",
    "}\n",
    "cookies = {\n",
    "    'cookie_name': 'cookie_value'  # Add any necessary cookies here\n",
    "}\n",
    "with requests.Session() as session:\n",
    "    session.headers.update(headers)\n",
    "    response = session.get(url, cookies=cookies)\n",
    "    if response.status_code == 200:\n",
    "        soup = BeautifulSoup(response.content, 'html.parser')\n",
    "        elements = soup.find_all(['a', 'img', 'p', 'h1', 'h2', 'h3', 'h4', 'h5', 'h6'])\n",
    "\n",
    "        try:\n",
    "            with open('scrap@.csv', 'w', newline='', encoding='utf-8') as csvfile:\n",
    "                csv_writer = csv.writer(csvfile)\n",
    "                csv_writer.writerow(['Type', 'Text', 'URL'])\n",
    "\n",
    "                for element in elements:\n",
    "                    element_type = element.name\n",
    "                    text = element.get_text(strip=True)\n",
    "                    if element.name == 'a':\n",
    "                        url = element.get('href')\n",
    "                    elif element.name == 'img':\n",
    "                        url = element.get('src')\n",
    "                    else:\n",
    "                        url = ''\n",
    "                    csv_writer.writerow([element_type, text, url])\n",
    "\n",
    "            print(\"Scraping completed. Data saved in scrap@.csv\")\n",
    "        except Exception as e:\n",
    "            print(\"Error:\", e)\n",
    "    else:\n",
    "        print(\"Failed to retrieve webpage. Status code:\", response.status_code)"
   ]
  }
 ],
 "metadata": {
  "kernelspec": {
   "display_name": "Python 3 (ipykernel)",
   "language": "python",
   "name": "python3"
  },
  "language_info": {
   "codemirror_mode": {
    "name": "ipython",
    "version": 3
   },
   "file_extension": ".py",
   "mimetype": "text/x-python",
   "name": "python",
   "nbconvert_exporter": "python",
   "pygments_lexer": "ipython3",
   "version": "3.11.3"
  }
 },
 "nbformat": 4,
 "nbformat_minor": 5
}
